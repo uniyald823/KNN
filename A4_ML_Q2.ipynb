{
 "cells": [
  {
   "cell_type": "markdown",
   "metadata": {},
   "source": [
    "### Q2 \n",
    "### Load the dataset and perform splitting into training and test sets with 75:25 ratio.Use tsne plot to visualise the dataset."
   ]
  },
  {
   "cell_type": "code",
   "execution_count": 1,
   "metadata": {},
   "outputs": [],
   "source": [
    "\n",
    "import numpy as np\n",
    "import pandas as pd\n",
    "import matplotlib.pyplot as plt\n",
    "from collections import Counter\n",
    "#from pandas.plotiing import scatter_matrix\n",
    "from sklearn.linear_model import LogisticRegression # logistic regression\n",
    "from sklearn import svm # support vector machine\n",
    "from sklearn.ensemble import RandomForestClassifier #Random_forest\n",
    "from sklearn.tree import DecisionTreeClassifier #Decision tree\n",
    "from sklearn.naive_bayes import GaussianNB #Naive_bayes\n",
    "from sklearn.neighbors import KNeighborsClassifier #K nearest neighbors\n",
    "from sklearn.preprocessing import LabelEncoder\n",
    "from sklearn.model_selection import train_test_split\n",
    "from sklearn.model_selection import cross_val_score\n",
    "from sklearn.model_selection import cross_val_predict\n",
    "from sklearn.model_selection import KFold\n",
    "from sklearn.metrics import confusion_matrix\n",
    "from sklearn.metrics import classification_report"
   ]
  },
  {
   "cell_type": "code",
   "execution_count": 2,
   "metadata": {},
   "outputs": [],
   "source": [
    "df = pd.read_csv(\"C:/Users/Drishya/Downloads/in-vehicle-coupon-recommendation.csv\")"
   ]
  },
  {
   "cell_type": "code",
   "execution_count": 3,
   "metadata": {},
   "outputs": [],
   "source": [
    "#Replacing the special character to nan and then drop the columns\n",
    "df['car'] = df['car'].replace('NaN',np.nan)\n",
    "df['CarryAway'] = df['CarryAway'].replace('?',np.nan)\n",
    "#Dropping the NaN rows now \n",
    "df.dropna(how='any',inplace=True)"
   ]
  },
  {
   "cell_type": "code",
   "execution_count": 4,
   "metadata": {},
   "outputs": [],
   "source": [
    "#Assigning the numeric values to the string type variables\n",
    "number = LabelEncoder()\n",
    "df['destination'] = number.fit_transform(df['destination'])\n",
    "df['passanger'] = number.fit_transform(df['passanger'])\n",
    "df['weather'] = number.fit_transform(df['weather'])\n",
    "df['time'] = number.fit_transform(df['time'])\n",
    "df['coupon'] = number.fit_transform(df['coupon'])\n",
    "df['expiration'] = number.fit_transform(df['expiration'])\n",
    "df['gender'] = number.fit_transform(df['gender'])\n",
    "df['maritalStatus'] = number.fit_transform(df['maritalStatus'])\n",
    "df['education'] = number.fit_transform(df['education'])\n",
    "df['occupation'] = number.fit_transform(df['occupation'])\n",
    "df['Bar'] = number.fit_transform(df['Bar'])\n",
    "df['CoffeeHouse'] = number.fit_transform(df['CoffeeHouse'])\n",
    "df['car'] = number.fit_transform(df['car'])\n",
    "df['CarryAway'] = number.fit_transform(df['CarryAway'])\n",
    "df['income'] = number.fit_transform(df['income'])\n",
    "df['Restaurant20To50'] = number.fit_transform(df['Restaurant20To50'])\n",
    "df['RestaurantLessThan20'] = number.fit_transform(df['RestaurantLessThan20'])"
   ]
  },
  {
   "cell_type": "code",
   "execution_count": 5,
   "metadata": {},
   "outputs": [
    {
     "name": "stdout",
     "output_type": "stream",
     "text": [
      "Class=1, Count=62, Percentage=57.407%\n",
      "Class=0, Count=46, Percentage=42.593%\n"
     ]
    }
   ],
   "source": [
    "# summarize the class distribution\n",
    "target = df.values[:,-1]\n",
    "counter = Counter(target)\n",
    "for k,v in counter.items():\n",
    "\tper = v / len(target) * 100\n",
    "\tprint('Class=%s, Count=%d, Percentage=%.3f%%' % (k, v, per))"
   ]
  },
  {
   "cell_type": "code",
   "execution_count": 6,
   "metadata": {},
   "outputs": [
    {
     "data": {
      "text/html": [
       "<div>\n",
       "<style scoped>\n",
       "    .dataframe tbody tr th:only-of-type {\n",
       "        vertical-align: middle;\n",
       "    }\n",
       "\n",
       "    .dataframe tbody tr th {\n",
       "        vertical-align: top;\n",
       "    }\n",
       "\n",
       "    .dataframe thead th {\n",
       "        text-align: right;\n",
       "    }\n",
       "</style>\n",
       "<table border=\"1\" class=\"dataframe\">\n",
       "  <thead>\n",
       "    <tr style=\"text-align: right;\">\n",
       "      <th></th>\n",
       "      <th>destination</th>\n",
       "      <th>passanger</th>\n",
       "      <th>weather</th>\n",
       "      <th>temperature</th>\n",
       "      <th>time</th>\n",
       "      <th>coupon</th>\n",
       "      <th>expiration</th>\n",
       "      <th>gender</th>\n",
       "      <th>age</th>\n",
       "      <th>maritalStatus</th>\n",
       "      <th>...</th>\n",
       "      <th>Bar</th>\n",
       "      <th>CoffeeHouse</th>\n",
       "      <th>CarryAway</th>\n",
       "      <th>RestaurantLessThan20</th>\n",
       "      <th>Restaurant20To50</th>\n",
       "      <th>toCoupon_GEQ5min</th>\n",
       "      <th>toCoupon_GEQ15min</th>\n",
       "      <th>toCoupon_GEQ25min</th>\n",
       "      <th>direction_same</th>\n",
       "      <th>direction_opp</th>\n",
       "    </tr>\n",
       "  </thead>\n",
       "  <tbody>\n",
       "    <tr>\n",
       "      <th>1237</th>\n",
       "      <td>1</td>\n",
       "      <td>0</td>\n",
       "      <td>2</td>\n",
       "      <td>55</td>\n",
       "      <td>2</td>\n",
       "      <td>4</td>\n",
       "      <td>0</td>\n",
       "      <td>1</td>\n",
       "      <td>26</td>\n",
       "      <td>1</td>\n",
       "      <td>...</td>\n",
       "      <td>1</td>\n",
       "      <td>1</td>\n",
       "      <td>1</td>\n",
       "      <td>0</td>\n",
       "      <td>2</td>\n",
       "      <td>1</td>\n",
       "      <td>0</td>\n",
       "      <td>0</td>\n",
       "      <td>0</td>\n",
       "      <td>1</td>\n",
       "    </tr>\n",
       "    <tr>\n",
       "      <th>1238</th>\n",
       "      <td>1</td>\n",
       "      <td>1</td>\n",
       "      <td>2</td>\n",
       "      <td>80</td>\n",
       "      <td>0</td>\n",
       "      <td>2</td>\n",
       "      <td>1</td>\n",
       "      <td>1</td>\n",
       "      <td>26</td>\n",
       "      <td>1</td>\n",
       "      <td>...</td>\n",
       "      <td>1</td>\n",
       "      <td>1</td>\n",
       "      <td>1</td>\n",
       "      <td>0</td>\n",
       "      <td>2</td>\n",
       "      <td>1</td>\n",
       "      <td>0</td>\n",
       "      <td>0</td>\n",
       "      <td>0</td>\n",
       "      <td>1</td>\n",
       "    </tr>\n",
       "    <tr>\n",
       "      <th>1239</th>\n",
       "      <td>1</td>\n",
       "      <td>1</td>\n",
       "      <td>2</td>\n",
       "      <td>80</td>\n",
       "      <td>0</td>\n",
       "      <td>0</td>\n",
       "      <td>0</td>\n",
       "      <td>1</td>\n",
       "      <td>26</td>\n",
       "      <td>1</td>\n",
       "      <td>...</td>\n",
       "      <td>1</td>\n",
       "      <td>1</td>\n",
       "      <td>1</td>\n",
       "      <td>0</td>\n",
       "      <td>2</td>\n",
       "      <td>1</td>\n",
       "      <td>0</td>\n",
       "      <td>0</td>\n",
       "      <td>0</td>\n",
       "      <td>1</td>\n",
       "    </tr>\n",
       "    <tr>\n",
       "      <th>1240</th>\n",
       "      <td>1</td>\n",
       "      <td>1</td>\n",
       "      <td>2</td>\n",
       "      <td>80</td>\n",
       "      <td>0</td>\n",
       "      <td>1</td>\n",
       "      <td>1</td>\n",
       "      <td>1</td>\n",
       "      <td>26</td>\n",
       "      <td>1</td>\n",
       "      <td>...</td>\n",
       "      <td>1</td>\n",
       "      <td>1</td>\n",
       "      <td>1</td>\n",
       "      <td>0</td>\n",
       "      <td>2</td>\n",
       "      <td>1</td>\n",
       "      <td>1</td>\n",
       "      <td>0</td>\n",
       "      <td>0</td>\n",
       "      <td>1</td>\n",
       "    </tr>\n",
       "    <tr>\n",
       "      <th>1241</th>\n",
       "      <td>1</td>\n",
       "      <td>1</td>\n",
       "      <td>2</td>\n",
       "      <td>80</td>\n",
       "      <td>2</td>\n",
       "      <td>2</td>\n",
       "      <td>0</td>\n",
       "      <td>1</td>\n",
       "      <td>26</td>\n",
       "      <td>1</td>\n",
       "      <td>...</td>\n",
       "      <td>1</td>\n",
       "      <td>1</td>\n",
       "      <td>1</td>\n",
       "      <td>0</td>\n",
       "      <td>2</td>\n",
       "      <td>1</td>\n",
       "      <td>0</td>\n",
       "      <td>0</td>\n",
       "      <td>0</td>\n",
       "      <td>1</td>\n",
       "    </tr>\n",
       "  </tbody>\n",
       "</table>\n",
       "<p>5 rows × 25 columns</p>\n",
       "</div>"
      ],
      "text/plain": [
       "      destination  passanger  weather  temperature  time  coupon  expiration  \\\n",
       "1237            1          0        2           55     2       4           0   \n",
       "1238            1          1        2           80     0       2           1   \n",
       "1239            1          1        2           80     0       0           0   \n",
       "1240            1          1        2           80     0       1           1   \n",
       "1241            1          1        2           80     2       2           0   \n",
       "\n",
       "      gender age  maritalStatus  ...  Bar  CoffeeHouse  CarryAway  \\\n",
       "1237       1  26              1  ...    1            1          1   \n",
       "1238       1  26              1  ...    1            1          1   \n",
       "1239       1  26              1  ...    1            1          1   \n",
       "1240       1  26              1  ...    1            1          1   \n",
       "1241       1  26              1  ...    1            1          1   \n",
       "\n",
       "      RestaurantLessThan20  Restaurant20To50  toCoupon_GEQ5min  \\\n",
       "1237                     0                 2                 1   \n",
       "1238                     0                 2                 1   \n",
       "1239                     0                 2                 1   \n",
       "1240                     0                 2                 1   \n",
       "1241                     0                 2                 1   \n",
       "\n",
       "      toCoupon_GEQ15min  toCoupon_GEQ25min  direction_same  direction_opp  \n",
       "1237                  0                  0               0              1  \n",
       "1238                  0                  0               0              1  \n",
       "1239                  0                  0               0              1  \n",
       "1240                  1                  0               0              1  \n",
       "1241                  0                  0               0              1  \n",
       "\n",
       "[5 rows x 25 columns]"
      ]
     },
     "execution_count": 6,
     "metadata": {},
     "output_type": "execute_result"
    }
   ],
   "source": [
    "#Train_Test splitting\n",
    "X = df.drop(['Y'],axis=1)\n",
    "Y = df['Y']\n",
    "X.head()"
   ]
  },
  {
   "cell_type": "code",
   "execution_count": 7,
   "metadata": {},
   "outputs": [
    {
     "name": "stdout",
     "output_type": "stream",
     "text": [
      "<class 'pandas.core.frame.DataFrame'>\n",
      "<class 'pandas.core.series.Series'>\n"
     ]
    }
   ],
   "source": [
    "print(type(X))\n",
    "print(type(Y))"
   ]
  },
  {
   "cell_type": "code",
   "execution_count": 8,
   "metadata": {},
   "outputs": [],
   "source": [
    "from sklearn.preprocessing import StandardScaler\n",
    "scaler = StandardScaler()\n",
    "X = scaler.fit_transform(X)\n"
   ]
  },
  {
   "cell_type": "code",
   "execution_count": 9,
   "metadata": {},
   "outputs": [],
   "source": [
    "from sklearn.model_selection import train_test_split\n",
    "X_train, X_test, y_train, y_test = train_test_split(X, Y, test_size = 0.25,random_state=0)"
   ]
  },
  {
   "cell_type": "code",
   "execution_count": 10,
   "metadata": {},
   "outputs": [
    {
     "data": {
      "text/plain": [
       "array([[-0.1142391 , -0.87028527,  0.44450044, ..., -0.38592249,\n",
       "        -0.38592249,  0.38592249],\n",
       "       [-0.1142391 ,  0.59832112,  0.44450044, ..., -0.38592249,\n",
       "        -0.38592249,  0.38592249],\n",
       "       [-0.1142391 ,  0.59832112,  0.44450044, ..., -0.38592249,\n",
       "        -0.38592249,  0.38592249],\n",
       "       ...,\n",
       "       [ 1.42798869, -0.87028527, -1.27000127, ...,  2.59119388,\n",
       "        -0.38592249,  0.38592249],\n",
       "       [ 1.42798869, -0.87028527, -1.27000127, ...,  2.59119388,\n",
       "        -0.38592249,  0.38592249],\n",
       "       [ 1.42798869, -0.87028527,  0.44450044, ..., -0.38592249,\n",
       "         2.59119388, -2.59119388]])"
      ]
     },
     "execution_count": 10,
     "metadata": {},
     "output_type": "execute_result"
    }
   ],
   "source": [
    "X"
   ]
  },
  {
   "cell_type": "code",
   "execution_count": 11,
   "metadata": {},
   "outputs": [
    {
     "data": {
      "text/plain": [
       "1237    1\n",
       "1238    0\n",
       "1239    1\n",
       "1240    0\n",
       "1241    1\n",
       "       ..\n",
       "8293    1\n",
       "8294    1\n",
       "8295    1\n",
       "8296    1\n",
       "8297    1\n",
       "Name: Y, Length: 108, dtype: int64"
      ]
     },
     "execution_count": 11,
     "metadata": {},
     "output_type": "execute_result"
    }
   ],
   "source": [
    "Y"
   ]
  },
  {
   "cell_type": "code",
   "execution_count": 12,
   "metadata": {},
   "outputs": [
    {
     "name": "stdout",
     "output_type": "stream",
     "text": [
      "<class 'numpy.ndarray'>\n",
      "<class 'pandas.core.series.Series'>\n",
      "<class 'numpy.ndarray'>\n",
      "<class 'pandas.core.series.Series'>\n"
     ]
    }
   ],
   "source": [
    "print(type(X_train))\n",
    "print(type(y_train))\n",
    "print(type(X_test))\n",
    "print(type(y_test))"
   ]
  },
  {
   "cell_type": "code",
   "execution_count": 13,
   "metadata": {},
   "outputs": [
    {
     "data": {
      "text/plain": [
       "((81, 25), (81,), (27, 25), (27,))"
      ]
     },
     "execution_count": 13,
     "metadata": {},
     "output_type": "execute_result"
    }
   ],
   "source": [
    "X_train.shape, y_train.shape, X_test.shape, y_test.shape"
   ]
  },
  {
   "cell_type": "code",
   "execution_count": 14,
   "metadata": {},
   "outputs": [],
   "source": [
    "y_train = y_train.to_numpy()"
   ]
  },
  {
   "cell_type": "code",
   "execution_count": null,
   "metadata": {},
   "outputs": [],
   "source": []
  },
  {
   "cell_type": "code",
   "execution_count": 15,
   "metadata": {},
   "outputs": [],
   "source": [
    "y_test = y_test.to_numpy()"
   ]
  },
  {
   "cell_type": "code",
   "execution_count": 16,
   "metadata": {},
   "outputs": [
    {
     "name": "stdout",
     "output_type": "stream",
     "text": [
      "<class 'numpy.ndarray'>\n",
      "<class 'numpy.ndarray'>\n",
      "<class 'numpy.ndarray'>\n",
      "<class 'numpy.ndarray'>\n"
     ]
    }
   ],
   "source": [
    "print(type(X_train))\n",
    "print(type(y_train))\n",
    "print(type(X_test))\n",
    "print(type(y_test))"
   ]
  },
  {
   "cell_type": "code",
   "execution_count": 18,
   "metadata": {},
   "outputs": [
    {
     "name": "stdout",
     "output_type": "stream",
     "text": [
      "t-SNE done! Time elapsed: 0.47745513916015625 seconds\n"
     ]
    }
   ],
   "source": [
    "from sklearn.manifold import TSNE\n",
    "import time\n",
    "time_start = time.time()\n",
    "fashion_tsne = TSNE().fit_transform(X_train)\n",
    "\n",
    "print('t-SNE done! Time elapsed: {} seconds'.format(time.time()-time_start))"
   ]
  },
  {
   "cell_type": "code",
   "execution_count": 19,
   "metadata": {},
   "outputs": [],
   "source": [
    "from bioinfokit.visuz import cluster\n",
    "cluster.tsneplot(score=fashion_tsne)"
   ]
  },
  {
   "cell_type": "code",
   "execution_count": 20,
   "metadata": {},
   "outputs": [
    {
     "name": "stderr",
     "output_type": "stream",
     "text": [
      "D:\\Anaconda3\\lib\\site-packages\\seaborn\\_decorators.py:36: FutureWarning: Pass the following variables as keyword args: x, y. From version 0.12, the only valid positional argument will be `data`, and passing other arguments without an explicit keyword will result in an error or misinterpretation.\n",
      "  warnings.warn(\n"
     ]
    },
    {
     "data": {
      "text/plain": [
       "<AxesSubplot:>"
      ]
     },
     "execution_count": 20,
     "metadata": {},
     "output_type": "execute_result"
    },
    {
     "data": {
      "image/png": "[encoded data removed]",
      "text/plain": [
       "<Figure size 432x288 with 1 Axes>"
      ]
     },
     "metadata": {
      "needs_background": "light"
     },
     "output_type": "display_data"
    }
   ],
   "source": [
    "sns.scatterplot(X_train[:,0],X_train[:,1],hue = y_train)"
   ]
  },
  {
   "cell_type": "markdown",
   "metadata": {},
   "source": [
    "### Implement the kNN algorithm from scratch . "
   ]
  },
  {
   "cell_type": "code",
   "execution_count": 29,
   "metadata": {},
   "outputs": [
    {
     "name": "stdout",
     "output_type": "stream",
     "text": [
      "Accuracy on test set by our model:  37.03703703703704\n",
      "Accuracy on train set by our model:  40.74074074074074\n",
      "Accuracy on test set by sklearn model :  37.03703703703704\n"
     ]
    }
   ],
   "source": [
    "# Importing libraries\n",
    "import pandas as pd\n",
    "\n",
    "import numpy as np\n",
    "\n",
    "from sklearn.model_selection import train_test_split\n",
    "\n",
    "from scipy.stats import mode\n",
    "\n",
    "from sklearn.neighbors import KNeighborsClassifier\n",
    "\n",
    "# K Nearest Neighbors Classification\n",
    "\n",
    "class K_Nearest_Neighbors_Classifier() :\n",
    "    def __init__( self, K ) :\n",
    "        self.K = K\n",
    "    # Function to store training set\n",
    "    def fit( self, X_train, Y_train ) :\n",
    "        self.X_train = X_train\n",
    "        self.Y_train = Y_train\n",
    "        # no_of_training_examples, no_of_features\n",
    "        self.m, self.n = X_train.shape\n",
    "    \n",
    "\n",
    "    def predict( self, X_test ) :\n",
    "        self.X_test = X_test\n",
    "        # no_of_test_examples, no_of_features\n",
    "        self.m_test, self.n = X_test.shape\n",
    "\n",
    "        # initialize Y_predict\n",
    "\n",
    "        Y_predict = np.zeros( self.m_test )\n",
    "        for i in range( self.m_test ) :\n",
    "            x = self.X_test[i]\n",
    "            # find the K nearest neighbors from current test example\n",
    "            neighbors = np.zeros( self.K )\n",
    "            neighbors = self.find_neighbors( x )\n",
    "            # most frequent class in K neighbors\n",
    "            Y_predict[i] = mode( neighbors )[0][0]\t\n",
    "        return Y_predict\n",
    "    # Function to find the K nearest neighbors to current test example\n",
    "    def find_neighbors( self, x ) :\n",
    "        euclidean_distances = np.zeros( self.m )\n",
    "        for i in range( self.m ) :\n",
    "            d = self.euclidean( x, self.X_train[i] )\n",
    "            euclidean_distances[i] = d\n",
    "        inds = euclidean_distances.argsort()\n",
    "        Y_train_sorted = self.Y_train[inds]\n",
    "        return Y_train_sorted[:self.K]\n",
    "\n",
    "    # Function to calculate euclidean distance\n",
    "    def euclidean( self, x, x_train ) :\n",
    "        return np.sqrt( np.sum( np.square( x - x_train ) ) )\n",
    "\n",
    "# Driver code\n",
    "\n",
    "def main() :\n",
    "    # Splitting dataset into train and test set\n",
    "\n",
    "    model = K_Nearest_Neighbors_Classifier( K = 3 )\n",
    "    \n",
    "    model.fit( X_train, y_train )\n",
    "\n",
    "    model1 = KNeighborsClassifier( n_neighbors = 3 )\n",
    "    \n",
    "    model1.fit( X_train, y_train )\n",
    "    Y_pred = model.predict( X_test )\n",
    "    Y_pred_train = model.predict(X_train)\n",
    "    Y_pred1 = model1.predict( X_test )\n",
    "    \n",
    "    # measure performance\n",
    "    \n",
    "    correctly_classified = 0\n",
    "    correctly_classified_train = 0\n",
    "    correctly_classified1 = 0\n",
    "    \n",
    "    # counter\n",
    "    \n",
    "    count = 0\n",
    "    \n",
    "    for count in range( np.size( Y_pred ) ) :\n",
    "        if y_test[count] == Y_pred[count] :\n",
    "            correctly_classified = correctly_classified + 1\n",
    "        if y_test[count] == Y_pred1[count] :\n",
    "            correctly_classified1 = correctly_classified1 + 1            \n",
    "        if y_train[count] == Y_pred_train[count] :\n",
    "            correctly_classified_train = correctly_classified + 1\n",
    "        count = count + 1\n",
    "        \n",
    "    print( \"Accuracy on test set by our model: \", (correctly_classified / count ) * 100 )\n",
    "    print( \"Accuracy on train set by our model: \", (correctly_classified_train / count ) * 100 )\n",
    "    print( \"Accuracy on test set by sklearn model : \", (correctly_classified1 / count ) * 100 )\n",
    "    \n",
    "    \n",
    "if __name__ == \"__main__\" :\n",
    "    \n",
    "    main()\n"
   ]
  },
  {
   "cell_type": "code",
   "execution_count": 35,
   "metadata": {},
   "outputs": [
    {
     "name": "stdout",
     "output_type": "stream",
     "text": [
      "Accuracy on test set by our model:  59.25925925925925\n",
      "Accuracy on train set by our model:  62.96296296296296\n",
      "Accuracy on test set by our model:  44.44444444444444\n",
      "Accuracy on train set by our model:  48.148148148148145\n",
      "Accuracy on test set by our model:  37.03703703703704\n",
      "Accuracy on train set by our model:  40.74074074074074\n",
      "Accuracy on test set by our model:  55.55555555555556\n",
      "Accuracy on train set by our model:  59.25925925925925\n",
      "Accuracy on test set by our model:  44.44444444444444\n",
      "Accuracy on train set by our model:  48.148148148148145\n",
      "Accuracy on test set by our model:  44.44444444444444\n",
      "Accuracy on train set by our model:  48.148148148148145\n",
      "Accuracy on test set by our model:  44.44444444444444\n",
      "Accuracy on train set by our model:  48.148148148148145\n",
      "Accuracy on test set by our model:  44.44444444444444\n",
      "Accuracy on train set by our model:  48.148148148148145\n",
      "Accuracy on test set by our model:  48.148148148148145\n",
      "Accuracy on train set by our model:  51.85185185185185\n",
      "Accuracy on test set by our model:  40.74074074074074\n",
      "Accuracy on train set by our model:  44.44444444444444\n",
      "Accuracy on test set by our model:  44.44444444444444\n",
      "Accuracy on train set by our model:  48.148148148148145\n",
      "Accuracy on test set by our model:  48.148148148148145\n",
      "Accuracy on train set by our model:  51.85185185185185\n",
      "Accuracy on test set by our model:  48.148148148148145\n",
      "Accuracy on train set by our model:  51.85185185185185\n",
      "Accuracy on test set by our model:  44.44444444444444\n",
      "Accuracy on train set by our model:  48.148148148148145\n",
      "Accuracy on test set by our model:  44.44444444444444\n",
      "Accuracy on train set by our model:  48.148148148148145\n",
      "Accuracy on test set by our model:  51.85185185185185\n",
      "Accuracy on train set by our model:  55.55555555555556\n",
      "Accuracy on test set by our model:  55.55555555555556\n",
      "Accuracy on train set by our model:  59.25925925925925\n",
      "Accuracy on test set by our model:  51.85185185185185\n",
      "Accuracy on train set by our model:  55.55555555555556\n",
      "Accuracy on test set by our model:  40.74074074074074\n",
      "Accuracy on train set by our model:  44.44444444444444\n",
      "Accuracy on test set by our model:  40.74074074074074\n",
      "Accuracy on train set by our model:  44.44444444444444\n",
      "[0.59259259 0.44444444 0.37037037 0.55555556 0.44444444 0.44444444\n",
      " 0.44444444 0.44444444 0.48148148 0.40740741 0.44444444 0.48148148\n",
      " 0.48148148 0.44444444 0.44444444 0.51851852 0.55555556 0.51851852\n",
      " 0.40740741 0.40740741]\n"
     ]
    },
    {
     "data": {
      "image/png": "[encoded data removed]",
      "text/plain": [
       "<Figure size 720x432 with 1 Axes>"
      ]
     },
     "metadata": {
      "needs_background": "light"
     },
     "output_type": "display_data"
    },
    {
     "data": {
      "image/png": "[encoded data removed]",
      "text/plain": [
       "<Figure size 864x432 with 1 Axes>"
      ]
     },
     "metadata": {
      "needs_background": "light"
     },
     "output_type": "display_data"
    }
   ],
   "source": [
    "# Importing libraries\n",
    "import pandas as pd\n",
    "from sklearn import metrics\n",
    "import numpy as np\n",
    "\n",
    "from sklearn.model_selection import train_test_split\n",
    "\n",
    "from scipy.stats import mode\n",
    "\n",
    "from sklearn.neighbors import KNeighborsClassifier\n",
    "\n",
    "# K Nearest Neighbors Classification\n",
    "\n",
    "class K_Nearest_Neighbors_Classifier() :\n",
    "    def __init__( self, K ) :\n",
    "        self.K = K\n",
    "    # Function to store training set\n",
    "    def fit( self, X_train, Y_train ) :\n",
    "        self.X_train = X_train\n",
    "        self.Y_train = Y_train\n",
    "        # no_of_training_examples, no_of_features\n",
    "        self.m, self.n = X_train.shape\n",
    "\n",
    "    def predict( self, X_test ) :\n",
    "        self.X_test = X_test\n",
    "        # no_of_test_examples, no_of_features\n",
    "        self.m_test, self.n = X_test.shape\n",
    "\n",
    "        # initialize Y_predict\n",
    "\n",
    "        Y_predict = np.zeros( self.m_test )\n",
    "        for i in range( self.m_test ) :\n",
    "            x = self.X_test[i]\n",
    "            # find the K nearest neighbors from current test example\n",
    "            neighbors = np.zeros( self.K )\n",
    "            neighbors = self.find_neighbors( x )\n",
    "            # most frequent class in K neighbors\n",
    "            Y_predict[i] = mode( neighbors )[0][0]\t\n",
    "        return Y_predict\n",
    "    # Function to find the K nearest neighbors to current test example\n",
    "    def find_neighbors( self, x ) :\n",
    "\n",
    "        euclidean_distances = np.zeros( self.m )\n",
    "        for i in range( self.m ) :\n",
    "            d = self.euclidean( x, self.X_train[i] )\n",
    "            euclidean_distances[i] = d\n",
    "        inds = euclidean_distances.argsort()\n",
    "        Y_train_sorted = self.Y_train[inds]\n",
    "        return Y_train_sorted[:self.K]\n",
    "    \n",
    "    # Function to calculate euclidean distance\n",
    "    def euclidean( self, x, x_train ) :\n",
    "        return np.sqrt( np.sum( np.square( x - x_train ) ) )\n",
    "\n",
    "# Driver code\n",
    "\n",
    "def main() :\n",
    "    # Splitting dataset into train and test set\n",
    "    mean_acc = np.zeros(20)\n",
    "    error = []\n",
    "    for i in range(1,21):\n",
    "        model = K_Nearest_Neighbors_Classifier( K = i )    \n",
    "        model.fit( X_train, y_train )\n",
    "        # Prediction on test set\n",
    "        Y_pred = model.predict( X_test )\n",
    "        Y_pred_train = model.predict(X_train)\n",
    "        mean_acc[i-1] = metrics.accuracy_score(y_test, Y_pred)\n",
    "        error.append(np.mean(Y_pred != y_test))\n",
    "        # measure performance\n",
    "        \n",
    "        correctly_classified = 0\n",
    "        correctly_classified_train = 0\n",
    "        # counter\n",
    "\n",
    "        count = 0\n",
    "        for count in range( np.size( Y_pred ) ) :\n",
    "            if y_test[count] == Y_pred[count] :\n",
    "                correctly_classified = correctly_classified + 1\n",
    "         \n",
    "            if y_train[count] == Y_pred_train[count] :\n",
    "                correctly_classified_train = correctly_classified + 1\n",
    "            count = count + 1\n",
    "\n",
    "        print( \"Accuracy on test set by our model: \", (correctly_classified / count ) * 100 )\n",
    "        print( \"Accuracy on train set by our model: \", (correctly_classified_train / count ) * 100 )\n",
    "        \n",
    "    print(mean_acc)\n",
    "    loc = np.arange(1,21,step=1.0)\n",
    "    plt.figure(figsize = (10, 6))\n",
    "    plt.plot(range(1,21), mean_acc)\n",
    "    plt.xticks(loc)\n",
    "    plt.xlabel('Number of Neighbors ')\n",
    "    plt.ylabel('Accuracy')\n",
    "    plt.show()\n",
    "    \n",
    "    plt.figure(figsize=(12, 6))\n",
    "    plt.plot(range(1, 21), error, color='red', linestyle='dashed', marker='o',\n",
    "             markerfacecolor='blue', markersize=10)\n",
    "    plt.title('Error Rate K Value')\n",
    "    plt.xlabel('K Value')\n",
    "    plt.ylabel('Mean Error')\n",
    "\n",
    "\n",
    "    \n",
    "    \n",
    "    \n",
    "if __name__ == \"__main__\" :\n",
    "    \n",
    "    main()\n"
   ]
  },
  {
   "cell_type": "markdown",
   "metadata": {},
   "source": [
    "### Finding values of k with GridSearch"
   ]
  },
  {
   "cell_type": "code",
   "execution_count": null,
   "metadata": {},
   "outputs": [],
   "source": [
    "### Finding K using Grid Search"
   ]
  },
  {
   "cell_type": "code",
   "execution_count": 100,
   "metadata": {},
   "outputs": [
    {
     "name": "stdout",
     "output_type": "stream",
     "text": [
      "0     0.603676\n",
      "1     0.591912\n",
      "2     0.703676\n",
      "3     0.715441\n",
      "4     0.691176\n",
      "5     0.702941\n",
      "6     0.690441\n",
      "7     0.702941\n",
      "8     0.652941\n",
      "9     0.665441\n",
      "10    0.616176\n",
      "11    0.590441\n",
      "12    0.554412\n",
      "13    0.578676\n",
      "14    0.529412\n",
      "Name: mean_test_score, dtype: float64\n"
     ]
    },
    {
     "data": {
      "image/png": "[encoded data removed]",
      "text/plain": [
       "<Figure size 432x288 with 1 Axes>"
      ]
     },
     "metadata": {
      "needs_background": "light"
     },
     "output_type": "display_data"
    }
   ],
   "source": [
    "from sklearn.model_selection import GridSearchCV\n",
    "from sklearn.metrics import make_scorer\n",
    "import numpy as np\n",
    "from sklearn import metrics\n",
    "from sklearn.model_selection import train_test_split\n",
    "from sklearn.metrics import accuracy_score,r2_score\n",
    "from scipy.stats import mode\n",
    "from sklearn.metrics import accuracy_score, precision_score, recall_score\n",
    "from sklearn.model_selection import GridSearchCV\n",
    "from sklearn.neighbors import KNeighborsClassifier\n",
    "\n",
    "# K Nearest Neighbors Classification\n",
    "\n",
    "class K_Neighbors_Classifier() :\n",
    "    def __init__( self, K ) :\n",
    "        self.K = K    \n",
    "\n",
    "    def fit( self, X_train, Y_train ):\n",
    "        self.X_train = X_train\n",
    "        self.Y_train = Y_train\n",
    "        # no_of_training_examples, no_of_features\n",
    "        self.m, self.n = X_train.shape\n",
    "    # Function for prediction\n",
    "    def predict( self, X_test ) :\n",
    "        self.X_test = X_test\n",
    "        # no_of_test_examples, no_of_features\n",
    "        self.m_test, self.n = X_test.shape\n",
    "        # initialize Y_predict\n",
    "        Y_predict = np.zeros( self.m_test )\n",
    "        for i in range( self.m_test ) :\n",
    "            x = self.X_test[i]\n",
    "            # find the K nearest neighbors from current test example\n",
    "            neighbors = np.zeros( self.K )\n",
    "            neighbors = self.find_neighbors( x )\n",
    "            # most frequent class in K neighbors\n",
    "            Y_predict[i] = mode( neighbors )[0][0]\t\n",
    "        return Y_predict\n",
    "\n",
    "    def find_neighbors( self, x ) :\n",
    "        euclidean_distances = np.zeros( self.m )\n",
    "        for i in range( self.m ) :\n",
    "            d = self.euclidean( x, self.X_train[i] )\n",
    "            euclidean_distances[i] = d\n",
    "        inds = euclidean_distances.argsort()\n",
    "        Y_train_sorted = self.Y_train[inds]\n",
    "        return Y_train_sorted[:self.K]\n",
    "\n",
    "\n",
    "    def euclidean( self, x, x_train ) :\n",
    "        return np.sqrt( np.sum( np.square( x - x_train ) ) )\n",
    "\n",
    "# Driver code\n",
    "\n",
    "def main() :\n",
    "    metrics = ['euclidean']\n",
    "    neighbors = np.arange(1, 16)\n",
    "    param_grid  = dict(metric=metrics, n_neighbors=neighbors)\n",
    "    grid_search = GridSearchCV(KNeighborsClassifier(), param_grid, cv=5, scoring='accuracy', refit=True)\n",
    "    grid_search.fit(X_train, y_train)\n",
    "    \n",
    "    yhat= grid_search.predict(X_test) \n",
    "    \n",
    "    error = []\n",
    "    error.append(np.mean(yhat != y_test))\n",
    "    grid_search.cv_results_\n",
    "    cross_val_df = pd.DataFrame(grid_search.cv_results_)\n",
    "    cross_val_df.head()\n",
    "        \n",
    "    accuracies = cross_val_df[cross_val_df[\"param_metric\"]=='euclidean'][\"mean_test_score\"]\n",
    "    print(accuracies)\n",
    "    \n",
    "    fig3 = plt.figure()\n",
    "    plt.plot(neighbors, accuracies)\n",
    "    plt.xlabel('k in kNN')\n",
    "    plt.ylabel('CV-Accuracy')\n",
    "    fig3.suptitle('kNN hyperparameter (k) tuning with GridSearchCV', fontsize=20)\n",
    "\n",
    "    \n",
    "if __name__ == \"__main__\" :\n",
    "    main()\n"
   ]
  },
  {
   "cell_type": "code",
   "execution_count": 98,
   "metadata": {},
   "outputs": [
    {
     "name": "stdout",
     "output_type": "stream",
     "text": [
      "0.8148148148148148\n",
      "0.5555555555555556\n"
     ]
    }
   ],
   "source": [
    "metrics = ['euclidean']\n",
    "neighbors = [4]\n",
    "param_grid  = dict(metric=metrics, n_neighbors=neighbors)\n",
    "grid_search = GridSearchCV(KNeighborsClassifier(), param_grid, cv=5, scoring='accuracy', refit=True)\n",
    "grid_search.fit(X_train, y_train)    \n",
    "y_pred= grid_search.predict(X_test) \n",
    "y_pred_train = grid_search.predict(X_train)\n",
    "test = accuracy_score(y_test,y_pred)\n",
    "train = accuracy_score(y_train,y_pred_train)\n",
    "print(train)\n",
    "print(test)"
   ]
  },
  {
   "cell_type": "code",
   "execution_count": null,
   "metadata": {},
   "outputs": [],
   "source": []
  }
 ],
 "metadata": {
  "kernelspec": {
   "display_name": "Python 3",
   "language": "python",
   "name": "python3"
  },
  "language_info": {
   "codemirror_mode": {
    "name": "ipython",
    "version": 3
   },
   "file_extension": ".py",
   "mimetype": "text/x-python",
   "name": "python",
   "nbconvert_exporter": "python",
   "pygments_lexer": "ipython3",
   "version": "3.8.5"
  }
 },
 "nbformat": 4,
 "nbformat_minor": 4
}
